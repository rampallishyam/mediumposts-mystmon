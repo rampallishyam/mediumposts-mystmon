{
 "cells": [
  {
   "cell_type": "markdown",
   "metadata": {},
   "source": [
    "### Install required modules"
   ]
  },
  {
   "cell_type": "code",
   "execution_count": 2,
   "metadata": {},
   "outputs": [
    {
     "name": "stdout",
     "output_type": "stream",
     "text": [
      "Collecting ipython-sql\n",
      "  Using cached ipython_sql-0.5.0-py3-none-any.whl.metadata (17 kB)\n",
      "Collecting prettytable (from ipython-sql)\n",
      "  Using cached prettytable-3.11.0-py3-none-any.whl.metadata (30 kB)\n",
      "Requirement already satisfied: ipython in ./.venv/lib/python3.12/site-packages (from ipython-sql) (8.28.0)\n",
      "Collecting sqlalchemy>=2.0 (from ipython-sql)\n",
      "  Using cached SQLAlchemy-2.0.36-cp312-cp312-manylinux_2_17_x86_64.manylinux2014_x86_64.whl.metadata (9.7 kB)\n",
      "Collecting sqlparse (from ipython-sql)\n",
      "  Using cached sqlparse-0.5.1-py3-none-any.whl.metadata (3.9 kB)\n",
      "Requirement already satisfied: six in ./.venv/lib/python3.12/site-packages (from ipython-sql) (1.16.0)\n",
      "Collecting ipython-genutils (from ipython-sql)\n",
      "  Using cached ipython_genutils-0.2.0-py2.py3-none-any.whl.metadata (755 bytes)\n",
      "Collecting typing-extensions>=4.6.0 (from sqlalchemy>=2.0->ipython-sql)\n",
      "  Using cached typing_extensions-4.12.2-py3-none-any.whl.metadata (3.0 kB)\n",
      "Collecting greenlet!=0.4.17 (from sqlalchemy>=2.0->ipython-sql)\n",
      "  Using cached greenlet-3.1.1-cp312-cp312-manylinux_2_24_x86_64.manylinux_2_28_x86_64.whl.metadata (3.8 kB)\n",
      "Requirement already satisfied: decorator in ./.venv/lib/python3.12/site-packages (from ipython->ipython-sql) (5.1.1)\n",
      "Requirement already satisfied: jedi>=0.16 in ./.venv/lib/python3.12/site-packages (from ipython->ipython-sql) (0.19.1)\n",
      "Requirement already satisfied: matplotlib-inline in ./.venv/lib/python3.12/site-packages (from ipython->ipython-sql) (0.1.7)\n",
      "Requirement already satisfied: prompt-toolkit<3.1.0,>=3.0.41 in ./.venv/lib/python3.12/site-packages (from ipython->ipython-sql) (3.0.48)\n",
      "Requirement already satisfied: pygments>=2.4.0 in ./.venv/lib/python3.12/site-packages (from ipython->ipython-sql) (2.18.0)\n",
      "Requirement already satisfied: stack-data in ./.venv/lib/python3.12/site-packages (from ipython->ipython-sql) (0.6.3)\n",
      "Requirement already satisfied: traitlets>=5.13.0 in ./.venv/lib/python3.12/site-packages (from ipython->ipython-sql) (5.14.3)\n",
      "Requirement already satisfied: pexpect>4.3 in ./.venv/lib/python3.12/site-packages (from ipython->ipython-sql) (4.9.0)\n",
      "Requirement already satisfied: wcwidth in ./.venv/lib/python3.12/site-packages (from prettytable->ipython-sql) (0.2.13)\n",
      "Requirement already satisfied: parso<0.9.0,>=0.8.3 in ./.venv/lib/python3.12/site-packages (from jedi>=0.16->ipython->ipython-sql) (0.8.4)\n",
      "Requirement already satisfied: ptyprocess>=0.5 in ./.venv/lib/python3.12/site-packages (from pexpect>4.3->ipython->ipython-sql) (0.7.0)\n",
      "Requirement already satisfied: executing>=1.2.0 in ./.venv/lib/python3.12/site-packages (from stack-data->ipython->ipython-sql) (2.1.0)\n",
      "Requirement already satisfied: asttokens>=2.1.0 in ./.venv/lib/python3.12/site-packages (from stack-data->ipython->ipython-sql) (2.4.1)\n",
      "Requirement already satisfied: pure-eval in ./.venv/lib/python3.12/site-packages (from stack-data->ipython->ipython-sql) (0.2.3)\n",
      "Using cached ipython_sql-0.5.0-py3-none-any.whl (20 kB)\n",
      "Using cached SQLAlchemy-2.0.36-cp312-cp312-manylinux_2_17_x86_64.manylinux2014_x86_64.whl (3.2 MB)\n",
      "Using cached ipython_genutils-0.2.0-py2.py3-none-any.whl (26 kB)\n",
      "Using cached prettytable-3.11.0-py3-none-any.whl (28 kB)\n",
      "Using cached sqlparse-0.5.1-py3-none-any.whl (44 kB)\n",
      "Using cached greenlet-3.1.1-cp312-cp312-manylinux_2_24_x86_64.manylinux_2_28_x86_64.whl (613 kB)\n",
      "Using cached typing_extensions-4.12.2-py3-none-any.whl (37 kB)\n",
      "Installing collected packages: ipython-genutils, typing-extensions, sqlparse, prettytable, greenlet, sqlalchemy, ipython-sql\n",
      "Successfully installed greenlet-3.1.1 ipython-genutils-0.2.0 ipython-sql-0.5.0 prettytable-3.11.0 sqlalchemy-2.0.36 sqlparse-0.5.1 typing-extensions-4.12.2\n"
     ]
    }
   ],
   "source": [
    "!pip install ipython-sql"
   ]
  },
  {
   "cell_type": "code",
   "execution_count": 1,
   "metadata": {},
   "outputs": [
    {
     "name": "stdout",
     "output_type": "stream",
     "text": [
      "Collecting pandas\n",
      "  Using cached pandas-2.2.3-cp312-cp312-manylinux_2_17_x86_64.manylinux2014_x86_64.whl.metadata (89 kB)\n",
      "Collecting numpy>=1.26.0 (from pandas)\n",
      "  Using cached numpy-2.1.2-cp312-cp312-manylinux_2_17_x86_64.manylinux2014_x86_64.whl.metadata (60 kB)\n",
      "Requirement already satisfied: python-dateutil>=2.8.2 in ./.venv/lib/python3.12/site-packages (from pandas) (2.9.0.post0)\n",
      "Collecting pytz>=2020.1 (from pandas)\n",
      "  Using cached pytz-2024.2-py2.py3-none-any.whl.metadata (22 kB)\n",
      "Collecting tzdata>=2022.7 (from pandas)\n",
      "  Using cached tzdata-2024.2-py2.py3-none-any.whl.metadata (1.4 kB)\n",
      "Requirement already satisfied: six>=1.5 in ./.venv/lib/python3.12/site-packages (from python-dateutil>=2.8.2->pandas) (1.16.0)\n",
      "Using cached pandas-2.2.3-cp312-cp312-manylinux_2_17_x86_64.manylinux2014_x86_64.whl (12.7 MB)\n",
      "Using cached numpy-2.1.2-cp312-cp312-manylinux_2_17_x86_64.manylinux2014_x86_64.whl (16.0 MB)\n",
      "Using cached pytz-2024.2-py2.py3-none-any.whl (508 kB)\n",
      "Using cached tzdata-2024.2-py2.py3-none-any.whl (346 kB)\n",
      "Installing collected packages: pytz, tzdata, numpy, pandas\n",
      "Successfully installed numpy-2.1.2 pandas-2.2.3 pytz-2024.2 tzdata-2024.2\n"
     ]
    }
   ],
   "source": [
    "!pip install pandas"
   ]
  },
  {
   "cell_type": "code",
   "execution_count": 7,
   "metadata": {},
   "outputs": [],
   "source": [
    "import sqlite3\n",
    "\n",
    "conn = sqlite3.connect('Database.db')"
   ]
  },
  {
   "cell_type": "code",
   "execution_count": 8,
   "metadata": {},
   "outputs": [
    {
     "name": "stdout",
     "output_type": "stream",
     "text": [
      "Requirement already satisfied: pandas in /home/rampalli/Documents/SQL/PortfolioProject2/.venv/lib/python3.12/site-packages (2.2.3)\n",
      "Requirement already satisfied: numpy>=1.26.0 in /home/rampalli/Documents/SQL/PortfolioProject2/.venv/lib/python3.12/site-packages (from pandas) (2.1.2)\n",
      "Requirement already satisfied: python-dateutil>=2.8.2 in /home/rampalli/Documents/SQL/PortfolioProject2/.venv/lib/python3.12/site-packages (from pandas) (2.9.0.post0)\n",
      "Requirement already satisfied: pytz>=2020.1 in /home/rampalli/Documents/SQL/PortfolioProject2/.venv/lib/python3.12/site-packages (from pandas) (2024.2)\n",
      "Requirement already satisfied: tzdata>=2022.7 in /home/rampalli/Documents/SQL/PortfolioProject2/.venv/lib/python3.12/site-packages (from pandas) (2024.2)\n",
      "Requirement already satisfied: six>=1.5 in /home/rampalli/Documents/SQL/PortfolioProject2/.venv/lib/python3.12/site-packages (from python-dateutil>=2.8.2->pandas) (1.16.0)\n"
     ]
    }
   ],
   "source": [
    "!pip install pandas"
   ]
  },
  {
   "cell_type": "code",
   "execution_count": 9,
   "metadata": {},
   "outputs": [],
   "source": [
    "import pandas as pd"
   ]
  },
  {
   "cell_type": "code",
   "execution_count": 10,
   "metadata": {},
   "outputs": [
    {
     "data": {
      "text/plain": [
       "9668"
      ]
     },
     "execution_count": 10,
     "metadata": {},
     "output_type": "execute_result"
    }
   ],
   "source": [
    "prime = pd.read_csv('amazon_prime_titles.csv')\n",
    "prime.to_sql('prime',conn) \n",
    "# here the string 'prime' is the name of the table. \n",
    "# You can choose any name based on your convenience"
   ]
  },
  {
   "cell_type": "code",
   "execution_count": 11,
   "metadata": {},
   "outputs": [
    {
     "data": {
      "text/plain": [
       "8807"
      ]
     },
     "execution_count": 11,
     "metadata": {},
     "output_type": "execute_result"
    }
   ],
   "source": [
    "netflix = pd.read_csv('netflix_titles.csv')\n",
    "netflix.to_sql('netflix',conn)"
   ]
  },
  {
   "cell_type": "code",
   "execution_count": 17,
   "metadata": {},
   "outputs": [
    {
     "name": "stdout",
     "output_type": "stream",
     "text": [
      " * sqlite:///Database.db\n",
      "Done.\n"
     ]
    },
    {
     "data": {
      "text/html": [
       "<table>\n",
       "    <thead>\n",
       "        <tr>\n",
       "            <th>name</th>\n",
       "        </tr>\n",
       "    </thead>\n",
       "    <tbody>\n",
       "        <tr>\n",
       "            <td>prime</td>\n",
       "        </tr>\n",
       "        <tr>\n",
       "            <td>netflix</td>\n",
       "        </tr>\n",
       "    </tbody>\n",
       "</table>"
      ],
      "text/plain": [
       "[('prime',), ('netflix',)]"
      ]
     },
     "execution_count": 17,
     "metadata": {},
     "output_type": "execute_result"
    }
   ],
   "source": [
    "%sql select name from sqlite_master where type = 'table'"
   ]
  },
  {
   "cell_type": "code",
   "execution_count": 19,
   "metadata": {},
   "outputs": [
    {
     "name": "stdout",
     "output_type": "stream",
     "text": [
      " * sqlite:///Database.db\n",
      "Done.\n"
     ]
    },
    {
     "data": {
      "text/html": [
       "<table>\n",
       "    <thead>\n",
       "        <tr>\n",
       "            <th>cid</th>\n",
       "            <th>name</th>\n",
       "            <th>type</th>\n",
       "            <th>notnull</th>\n",
       "            <th>dflt_value</th>\n",
       "            <th>pk</th>\n",
       "        </tr>\n",
       "    </thead>\n",
       "    <tbody>\n",
       "    </tbody>\n",
       "</table>"
      ],
      "text/plain": [
       "[]"
      ]
     },
     "execution_count": 19,
     "metadata": {},
     "output_type": "execute_result"
    }
   ],
   "source": [
    "%sql pragma table_info('prime')"
   ]
  },
  {
   "cell_type": "code",
   "execution_count": 18,
   "metadata": {},
   "outputs": [
    {
     "name": "stdout",
     "output_type": "stream",
     "text": [
      " * sqlite:///Database.db\n",
      "Done.\n"
     ]
    },
    {
     "data": {
      "text/html": [
       "<table>\n",
       "    <thead>\n",
       "        <tr>\n",
       "            <th>index</th>\n",
       "            <th>show_id</th>\n",
       "            <th>type</th>\n",
       "            <th>title</th>\n",
       "            <th>director</th>\n",
       "            <th>cast</th>\n",
       "            <th>country</th>\n",
       "            <th>date_added</th>\n",
       "            <th>release_year</th>\n",
       "            <th>rating</th>\n",
       "            <th>duration</th>\n",
       "            <th>listed_in</th>\n",
       "            <th>description</th>\n",
       "        </tr>\n",
       "    </thead>\n",
       "    <tbody>\n",
       "        <tr>\n",
       "            <td>0</td>\n",
       "            <td>s1</td>\n",
       "            <td>Movie</td>\n",
       "            <td>The Grand Seduction</td>\n",
       "            <td>Don McKellar</td>\n",
       "            <td>Brendan Gleeson, Taylor Kitsch, Gordon Pinsent</td>\n",
       "            <td>Canada</td>\n",
       "            <td>March 30, 2021</td>\n",
       "            <td>2014</td>\n",
       "            <td>None</td>\n",
       "            <td>113 min</td>\n",
       "            <td>Comedy, Drama</td>\n",
       "            <td>A small fishing village must procure a local doctor to secure a lucrative business contract. When unlikely candidate and big city doctor Paul Lewis lands in their lap for a trial residence, the townsfolk rally together to charm him into staying. As the doctor&#x27;s time in the village winds to a close, acting mayor Murray French has no choice but to pull out all the stops.</td>\n",
       "        </tr>\n",
       "        <tr>\n",
       "            <td>1</td>\n",
       "            <td>s2</td>\n",
       "            <td>Movie</td>\n",
       "            <td>Take Care Good Night</td>\n",
       "            <td>Girish Joshi</td>\n",
       "            <td>Mahesh Manjrekar, Abhay Mahajan, Sachin Khedekar</td>\n",
       "            <td>India</td>\n",
       "            <td>March 30, 2021</td>\n",
       "            <td>2018</td>\n",
       "            <td>13+</td>\n",
       "            <td>110 min</td>\n",
       "            <td>Drama, International</td>\n",
       "            <td>A Metro Family decides to fight a Cyber Criminal threatening their stability and pride.</td>\n",
       "        </tr>\n",
       "        <tr>\n",
       "            <td>2</td>\n",
       "            <td>s3</td>\n",
       "            <td>Movie</td>\n",
       "            <td>Secrets of Deception</td>\n",
       "            <td>Josh Webber</td>\n",
       "            <td>Tom Sizemore, Lorenzo Lamas, Robert LaSardo, Richard Jones, Yancey Arias, Noel Gugliemi</td>\n",
       "            <td>United States</td>\n",
       "            <td>March 30, 2021</td>\n",
       "            <td>2017</td>\n",
       "            <td>None</td>\n",
       "            <td>74 min</td>\n",
       "            <td>Action, Drama, Suspense</td>\n",
       "            <td>After a man discovers his wife is cheating on him with a neighborhood kid he goes down a furious path of self-destruction</td>\n",
       "        </tr>\n",
       "        <tr>\n",
       "            <td>3</td>\n",
       "            <td>s4</td>\n",
       "            <td>Movie</td>\n",
       "            <td>Pink: Staying True</td>\n",
       "            <td>Sonia Anderson</td>\n",
       "            <td>Interviews with: Pink, Adele, Beyoncé, Britney Spears, Christina Aguilera, more!</td>\n",
       "            <td>United States</td>\n",
       "            <td>March 30, 2021</td>\n",
       "            <td>2014</td>\n",
       "            <td>None</td>\n",
       "            <td>69 min</td>\n",
       "            <td>Documentary</td>\n",
       "            <td>Pink breaks the mold once again, bringing her career to a new level in 2013 with a world tour that entertains unlike ever before! Get inside access to &quot;the girl who got the party started&quot; with exclusive interviews and rare live performances.</td>\n",
       "        </tr>\n",
       "        <tr>\n",
       "            <td>4</td>\n",
       "            <td>s5</td>\n",
       "            <td>Movie</td>\n",
       "            <td>Monster Maker</td>\n",
       "            <td>Giles Foster</td>\n",
       "            <td>Harry Dean Stanton, Kieran O&#x27;Brien, George Costigan, Amanda Dickinson, Alison Steadman, Grant Bardsley, Bill Moody, Matthew Scurfield</td>\n",
       "            <td>United Kingdom</td>\n",
       "            <td>March 30, 2021</td>\n",
       "            <td>1989</td>\n",
       "            <td>None</td>\n",
       "            <td>45 min</td>\n",
       "            <td>Drama, Fantasy</td>\n",
       "            <td>Teenage Matt Banting wants to work with a famous but eccentric creature/special effects man named Chancey Bellows. He gets more than he bargained for when one of the creatures, the giant dragon-like Ultragorgon, takes Matt under his wing. Matt is forced to confront his inner monsters while working out his issues with his father.</td>\n",
       "        </tr>\n",
       "    </tbody>\n",
       "</table>"
      ],
      "text/plain": [
       "[(0, 's1', 'Movie', 'The Grand Seduction', 'Don McKellar', 'Brendan Gleeson, Taylor Kitsch, Gordon Pinsent', 'Canada', 'March 30, 2021', 2014, None, '113 min', 'Comedy, Drama', \"A small fishing village must procure a local doctor to secure a lucrative business contract. When unlikely candidate and big city doctor Paul Lewis l ... (73 characters truncated) ... charm him into staying. As the doctor's time in the village winds to a close, acting mayor Murray French has no choice but to pull out all the stops.\"),\n",
       " (1, 's2', 'Movie', 'Take Care Good Night', 'Girish Joshi', 'Mahesh Manjrekar, Abhay Mahajan, Sachin Khedekar', 'India', 'March 30, 2021', 2018, '13+', '110 min', 'Drama, International', 'A Metro Family decides to fight a Cyber Criminal threatening their stability and pride.'),\n",
       " (2, 's3', 'Movie', 'Secrets of Deception', 'Josh Webber', 'Tom Sizemore, Lorenzo Lamas, Robert LaSardo, Richard Jones, Yancey Arias, Noel Gugliemi', 'United States', 'March 30, 2021', 2017, None, '74 min', 'Action, Drama, Suspense', 'After a man discovers his wife is cheating on him with a neighborhood kid he goes down a furious path of self-destruction'),\n",
       " (3, 's4', 'Movie', 'Pink: Staying True', 'Sonia Anderson', 'Interviews with: Pink, Adele, Beyoncé, Britney Spears, Christina Aguilera, more!', 'United States', 'March 30, 2021', 2014, None, '69 min', 'Documentary', 'Pink breaks the mold once again, bringing her career to a new level in 2013 with a world tour that entertains unlike ever before! Get inside access to \"the girl who got the party started\" with exclusive interviews and rare live performances.'),\n",
       " (4, 's5', 'Movie', 'Monster Maker', 'Giles Foster', \"Harry Dean Stanton, Kieran O'Brien, George Costigan, Amanda Dickinson, Alison Steadman, Grant Bardsley, Bill Moody, Matthew Scurfield\", 'United Kingdom', 'March 30, 2021', 1989, None, '45 min', 'Drama, Fantasy', 'Teenage Matt Banting wants to work with a famous but eccentric creature/special effects man named Chancey Bellows. He gets more than he bargained for ... (32 characters truncated) ... giant dragon-like Ultragorgon, takes Matt under his wing. Matt is forced to confront his inner monsters while working out his issues with his father.')]"
      ]
     },
     "execution_count": 18,
     "metadata": {},
     "output_type": "execute_result"
    }
   ],
   "source": [
    "%sql SELECT * from prime LIMIT 5;"
   ]
  },
  {
   "cell_type": "code",
   "execution_count": 19,
   "metadata": {},
   "outputs": [],
   "source": [
    "conn.close()"
   ]
  },
  {
   "cell_type": "code",
   "execution_count": null,
   "metadata": {},
   "outputs": [],
   "source": []
  }
 ],
 "metadata": {
  "kernelspec": {
   "display_name": ".venv",
   "language": "python",
   "name": "python3"
  },
  "language_info": {
   "codemirror_mode": {
    "name": "ipython",
    "version": 3
   },
   "file_extension": ".py",
   "mimetype": "text/x-python",
   "name": "python",
   "nbconvert_exporter": "python",
   "pygments_lexer": "ipython3",
   "version": "3.12.3"
  }
 },
 "nbformat": 4,
 "nbformat_minor": 2
}
